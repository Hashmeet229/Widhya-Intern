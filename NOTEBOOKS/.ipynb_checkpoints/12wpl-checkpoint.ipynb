{
 "cells": [
  {
   "cell_type": "code",
   "execution_count": 256,
   "metadata": {
    "_cell_guid": "b1076dfc-b9ad-4769-8c92-a6c4dae69d19",
    "_uuid": "8f2839f25d086af736a60e9eeb907d3b93b6e0e5"
   },
   "outputs": [
    {
     "name": "stdout",
     "output_type": "stream",
     "text": [
      "/kaggle/input/rr-vs-srh-match/matches.csv\n",
      "/kaggle/input/rr-vs-srh-match/deliveries.csv\n"
     ]
    }
   ],
   "source": [
    "# This Python 3 environment comes with many helpful analytics libraries installed\n",
    "# It is defined by the kaggle/python Docker image: https://github.com/kaggle/docker-python\n",
    "# For example, here's several helpful packages to load\n",
    "\n",
    "import numpy as np # linear algebra\n",
    "import pandas as pd # data processing, CSV file I/O (e.g. pd.read_csv)\n",
    "\n",
    "# Input data files are available in the read-only \"../input/\" directory\n",
    "# For example, running this (by clicking run or pressing Shift+Enter) will list all files under the input directory\n",
    "\n",
    "import os\n",
    "for dirname, _, filenames in os.walk('/kaggle/input'):\n",
    "    for filename in filenames:\n",
    "        print(os.path.join(dirname, filename))\n",
    "\n",
    "# You can write up to 5GB to the current directory (/kaggle/working/) that gets preserved as output when you create a version using \"Save & Run All\" \n",
    "# You can also write temporary files to /kaggle/temp/, but they won't be saved outside of the current session"
   ]
  },
  {
   "cell_type": "code",
   "execution_count": 292,
   "metadata": {
    "_cell_guid": "79c7e3d0-c299-4dcb-8224-4455121ee9b0",
    "_uuid": "d629ff2d2480ee46fbb7e2d37f6b5fab8052498a"
   },
   "outputs": [
    {
     "name": "stdout",
     "output_type": "stream",
     "text": [
      "<class 'pandas.core.frame.DataFrame'>\n",
      "RangeIndex: 179078 entries, 0 to 179077\n",
      "Data columns (total 21 columns):\n",
      " #   Column            Non-Null Count   Dtype \n",
      "---  ------            --------------   ----- \n",
      " 0   match_id          179078 non-null  int64 \n",
      " 1   inning            179078 non-null  int64 \n",
      " 2   batting_team      179078 non-null  object\n",
      " 3   bowling_team      179078 non-null  object\n",
      " 4   over              179078 non-null  int64 \n",
      " 5   ball              179078 non-null  int64 \n",
      " 6   batsman           179078 non-null  object\n",
      " 7   non_striker       179078 non-null  object\n",
      " 8   bowler            179078 non-null  object\n",
      " 9   is_super_over     179078 non-null  int64 \n",
      " 10  wide_runs         179078 non-null  int64 \n",
      " 11  bye_runs          179078 non-null  int64 \n",
      " 12  legbye_runs       179078 non-null  int64 \n",
      " 13  noball_runs       179078 non-null  int64 \n",
      " 14  penalty_runs      179078 non-null  int64 \n",
      " 15  batsman_runs      179078 non-null  int64 \n",
      " 16  extra_runs        179078 non-null  int64 \n",
      " 17  total_runs        179078 non-null  int64 \n",
      " 18  player_dismissed  8834 non-null    object\n",
      " 19  dismissal_kind    8834 non-null    object\n",
      " 20  fielder           6448 non-null    object\n",
      "dtypes: int64(13), object(8)\n",
      "memory usage: 28.7+ MB\n",
      "['rr-vs-srh-match']\n"
     ]
    }
   ],
   "source": [
    "import pandas as pd\n",
    "import numpy as np\n",
    "import matplotlib.pyplot as plt\n",
    "import seaborn as sns\n",
    "df=pd.read_csv(\"../input/rr-vs-srh-match/deliveries.csv\")\n",
    "df.head()\n",
    "df.info()\n",
    "import os\n",
    "print(os.listdir(\"../input\"))"
   ]
  },
  {
   "cell_type": "code",
   "execution_count": 293,
   "metadata": {},
   "outputs": [
    {
     "name": "stdout",
     "output_type": "stream",
     "text": [
      "<class 'pandas.core.frame.DataFrame'>\n",
      "RangeIndex: 756 entries, 0 to 755\n",
      "Data columns (total 18 columns):\n",
      " #   Column           Non-Null Count  Dtype \n",
      "---  ------           --------------  ----- \n",
      " 0   id               756 non-null    int64 \n",
      " 1   season           756 non-null    int64 \n",
      " 2   city             749 non-null    object\n",
      " 3   date             756 non-null    object\n",
      " 4   team1            756 non-null    object\n",
      " 5   team2            756 non-null    object\n",
      " 6   toss_winner      756 non-null    object\n",
      " 7   toss_decision    756 non-null    object\n",
      " 8   result           756 non-null    object\n",
      " 9   dl_applied       756 non-null    int64 \n",
      " 10  winner           752 non-null    object\n",
      " 11  win_by_runs      756 non-null    int64 \n",
      " 12  win_by_wickets   756 non-null    int64 \n",
      " 13  player_of_match  752 non-null    object\n",
      " 14  venue            756 non-null    object\n",
      " 15  umpire1          754 non-null    object\n",
      " 16  umpire2          754 non-null    object\n",
      " 17  umpire3          119 non-null    object\n",
      "dtypes: int64(5), object(13)\n",
      "memory usage: 106.4+ KB\n"
     ]
    }
   ],
   "source": [
    "df1=pd.read_csv(\"../input/rr-vs-srh-match/matches.csv\")\n",
    "df1.info()"
   ]
  },
  {
   "cell_type": "markdown",
   "metadata": {},
   "source": [
    "# QUES 1"
   ]
  },
  {
   "cell_type": "code",
   "execution_count": 294,
   "metadata": {},
   "outputs": [
    {
     "data": {
      "text/html": [
       "<div>\n",
       "<style scoped>\n",
       "    .dataframe tbody tr th:only-of-type {\n",
       "        vertical-align: middle;\n",
       "    }\n",
       "\n",
       "    .dataframe tbody tr th {\n",
       "        vertical-align: top;\n",
       "    }\n",
       "\n",
       "    .dataframe thead th {\n",
       "        text-align: right;\n",
       "    }\n",
       "</style>\n",
       "<table border=\"1\" class=\"dataframe\">\n",
       "  <thead>\n",
       "    <tr style=\"text-align: right;\">\n",
       "      <th></th>\n",
       "      <th>id</th>\n",
       "      <th>team1</th>\n",
       "      <th>team2</th>\n",
       "      <th>winner</th>\n",
       "      <th>result</th>\n",
       "      <th>toss_winner</th>\n",
       "      <th>toss_decision</th>\n",
       "      <th>season</th>\n",
       "    </tr>\n",
       "  </thead>\n",
       "  <tbody>\n",
       "    <tr>\n",
       "      <th>0</th>\n",
       "      <td>1</td>\n",
       "      <td>Sunrisers Hyderabad</td>\n",
       "      <td>Royal Challengers Bangalore</td>\n",
       "      <td>Sunrisers Hyderabad</td>\n",
       "      <td>normal</td>\n",
       "      <td>Royal Challengers Bangalore</td>\n",
       "      <td>field</td>\n",
       "      <td>2017</td>\n",
       "    </tr>\n",
       "    <tr>\n",
       "      <th>1</th>\n",
       "      <td>2</td>\n",
       "      <td>Mumbai Indians</td>\n",
       "      <td>Rising Pune Supergiant</td>\n",
       "      <td>Rising Pune Supergiant</td>\n",
       "      <td>normal</td>\n",
       "      <td>Rising Pune Supergiant</td>\n",
       "      <td>field</td>\n",
       "      <td>2017</td>\n",
       "    </tr>\n",
       "    <tr>\n",
       "      <th>2</th>\n",
       "      <td>3</td>\n",
       "      <td>Gujarat Lions</td>\n",
       "      <td>Kolkata Knight Riders</td>\n",
       "      <td>Kolkata Knight Riders</td>\n",
       "      <td>normal</td>\n",
       "      <td>Kolkata Knight Riders</td>\n",
       "      <td>field</td>\n",
       "      <td>2017</td>\n",
       "    </tr>\n",
       "    <tr>\n",
       "      <th>3</th>\n",
       "      <td>4</td>\n",
       "      <td>Rising Pune Supergiant</td>\n",
       "      <td>Kings XI Punjab</td>\n",
       "      <td>Kings XI Punjab</td>\n",
       "      <td>normal</td>\n",
       "      <td>Kings XI Punjab</td>\n",
       "      <td>field</td>\n",
       "      <td>2017</td>\n",
       "    </tr>\n",
       "    <tr>\n",
       "      <th>4</th>\n",
       "      <td>5</td>\n",
       "      <td>Royal Challengers Bangalore</td>\n",
       "      <td>Delhi Capitals</td>\n",
       "      <td>Royal Challengers Bangalore</td>\n",
       "      <td>normal</td>\n",
       "      <td>Royal Challengers Bangalore</td>\n",
       "      <td>bat</td>\n",
       "      <td>2017</td>\n",
       "    </tr>\n",
       "  </tbody>\n",
       "</table>\n",
       "</div>"
      ],
      "text/plain": [
       "   id                        team1                        team2  \\\n",
       "0   1          Sunrisers Hyderabad  Royal Challengers Bangalore   \n",
       "1   2               Mumbai Indians       Rising Pune Supergiant   \n",
       "2   3                Gujarat Lions        Kolkata Knight Riders   \n",
       "3   4       Rising Pune Supergiant              Kings XI Punjab   \n",
       "4   5  Royal Challengers Bangalore               Delhi Capitals   \n",
       "\n",
       "                        winner  result                  toss_winner  \\\n",
       "0          Sunrisers Hyderabad  normal  Royal Challengers Bangalore   \n",
       "1       Rising Pune Supergiant  normal       Rising Pune Supergiant   \n",
       "2        Kolkata Knight Riders  normal        Kolkata Knight Riders   \n",
       "3              Kings XI Punjab  normal              Kings XI Punjab   \n",
       "4  Royal Challengers Bangalore  normal  Royal Challengers Bangalore   \n",
       "\n",
       "  toss_decision  season  \n",
       "0         field    2017  \n",
       "1         field    2017  \n",
       "2         field    2017  \n",
       "3         field    2017  \n",
       "4           bat    2017  "
      ]
     },
     "execution_count": 294,
     "metadata": {},
     "output_type": "execute_result"
    }
   ],
   "source": [
    "df2=df1[['id','team1','team2','winner','result','toss_winner','toss_decision','season',]]\n",
    "df2.head()\n"
   ]
  },
  {
   "cell_type": "code",
   "execution_count": 295,
   "metadata": {},
   "outputs": [
    {
     "data": {
      "text/html": [
       "<div>\n",
       "<style scoped>\n",
       "    .dataframe tbody tr th:only-of-type {\n",
       "        vertical-align: middle;\n",
       "    }\n",
       "\n",
       "    .dataframe tbody tr th {\n",
       "        vertical-align: top;\n",
       "    }\n",
       "\n",
       "    .dataframe thead th {\n",
       "        text-align: right;\n",
       "    }\n",
       "</style>\n",
       "<table border=\"1\" class=\"dataframe\">\n",
       "  <thead>\n",
       "    <tr style=\"text-align: right;\">\n",
       "      <th></th>\n",
       "      <th>id</th>\n",
       "      <th>team1</th>\n",
       "      <th>team2</th>\n",
       "      <th>winner</th>\n",
       "      <th>result</th>\n",
       "      <th>toss_winner</th>\n",
       "      <th>toss_decision</th>\n",
       "      <th>season</th>\n",
       "    </tr>\n",
       "  </thead>\n",
       "  <tbody>\n",
       "    <tr>\n",
       "      <th>415</th>\n",
       "      <td>416</td>\n",
       "      <td>Sunrisers Hyderabad</td>\n",
       "      <td>Rajasthan Royals</td>\n",
       "      <td>Rajasthan Royals</td>\n",
       "      <td>normal</td>\n",
       "      <td>Sunrisers Hyderabad</td>\n",
       "      <td>bat</td>\n",
       "      <td>2013</td>\n",
       "    </tr>\n",
       "    <tr>\n",
       "      <th>448</th>\n",
       "      <td>449</td>\n",
       "      <td>Sunrisers Hyderabad</td>\n",
       "      <td>Rajasthan Royals</td>\n",
       "      <td>Sunrisers Hyderabad</td>\n",
       "      <td>normal</td>\n",
       "      <td>Sunrisers Hyderabad</td>\n",
       "      <td>bat</td>\n",
       "      <td>2013</td>\n",
       "    </tr>\n",
       "    <tr>\n",
       "      <th>454</th>\n",
       "      <td>455</td>\n",
       "      <td>Sunrisers Hyderabad</td>\n",
       "      <td>Rajasthan Royals</td>\n",
       "      <td>Rajasthan Royals</td>\n",
       "      <td>normal</td>\n",
       "      <td>Sunrisers Hyderabad</td>\n",
       "      <td>bat</td>\n",
       "      <td>2013</td>\n",
       "    </tr>\n",
       "    <tr>\n",
       "      <th>460</th>\n",
       "      <td>461</td>\n",
       "      <td>Sunrisers Hyderabad</td>\n",
       "      <td>Rajasthan Royals</td>\n",
       "      <td>Rajasthan Royals</td>\n",
       "      <td>normal</td>\n",
       "      <td>Rajasthan Royals</td>\n",
       "      <td>field</td>\n",
       "      <td>2014</td>\n",
       "    </tr>\n",
       "    <tr>\n",
       "      <th>486</th>\n",
       "      <td>487</td>\n",
       "      <td>Sunrisers Hyderabad</td>\n",
       "      <td>Rajasthan Royals</td>\n",
       "      <td>Sunrisers Hyderabad</td>\n",
       "      <td>normal</td>\n",
       "      <td>Rajasthan Royals</td>\n",
       "      <td>field</td>\n",
       "      <td>2014</td>\n",
       "    </tr>\n",
       "    <tr>\n",
       "      <th>528</th>\n",
       "      <td>529</td>\n",
       "      <td>Sunrisers Hyderabad</td>\n",
       "      <td>Rajasthan Royals</td>\n",
       "      <td>Rajasthan Royals</td>\n",
       "      <td>normal</td>\n",
       "      <td>Rajasthan Royals</td>\n",
       "      <td>field</td>\n",
       "      <td>2015</td>\n",
       "    </tr>\n",
       "    <tr>\n",
       "      <th>557</th>\n",
       "      <td>558</td>\n",
       "      <td>Sunrisers Hyderabad</td>\n",
       "      <td>Rajasthan Royals</td>\n",
       "      <td>Sunrisers Hyderabad</td>\n",
       "      <td>normal</td>\n",
       "      <td>Rajasthan Royals</td>\n",
       "      <td>field</td>\n",
       "      <td>2015</td>\n",
       "    </tr>\n",
       "    <tr>\n",
       "      <th>639</th>\n",
       "      <td>7897</td>\n",
       "      <td>Rajasthan Royals</td>\n",
       "      <td>Sunrisers Hyderabad</td>\n",
       "      <td>Sunrisers Hyderabad</td>\n",
       "      <td>normal</td>\n",
       "      <td>Sunrisers Hyderabad</td>\n",
       "      <td>field</td>\n",
       "      <td>2018</td>\n",
       "    </tr>\n",
       "    <tr>\n",
       "      <th>663</th>\n",
       "      <td>7921</td>\n",
       "      <td>Sunrisers Hyderabad</td>\n",
       "      <td>Rajasthan Royals</td>\n",
       "      <td>Sunrisers Hyderabad</td>\n",
       "      <td>normal</td>\n",
       "      <td>Sunrisers Hyderabad</td>\n",
       "      <td>bat</td>\n",
       "      <td>2018</td>\n",
       "    </tr>\n",
       "    <tr>\n",
       "      <th>703</th>\n",
       "      <td>11144</td>\n",
       "      <td>Rajasthan Royals</td>\n",
       "      <td>Sunrisers Hyderabad</td>\n",
       "      <td>Sunrisers Hyderabad</td>\n",
       "      <td>normal</td>\n",
       "      <td>Rajasthan Royals</td>\n",
       "      <td>bat</td>\n",
       "      <td>2019</td>\n",
       "    </tr>\n",
       "    <tr>\n",
       "      <th>740</th>\n",
       "      <td>11336</td>\n",
       "      <td>Sunrisers Hyderabad</td>\n",
       "      <td>Rajasthan Royals</td>\n",
       "      <td>Rajasthan Royals</td>\n",
       "      <td>normal</td>\n",
       "      <td>Rajasthan Royals</td>\n",
       "      <td>field</td>\n",
       "      <td>2019</td>\n",
       "    </tr>\n",
       "  </tbody>\n",
       "</table>\n",
       "</div>"
      ],
      "text/plain": [
       "        id                team1                team2               winner  \\\n",
       "415    416  Sunrisers Hyderabad     Rajasthan Royals     Rajasthan Royals   \n",
       "448    449  Sunrisers Hyderabad     Rajasthan Royals  Sunrisers Hyderabad   \n",
       "454    455  Sunrisers Hyderabad     Rajasthan Royals     Rajasthan Royals   \n",
       "460    461  Sunrisers Hyderabad     Rajasthan Royals     Rajasthan Royals   \n",
       "486    487  Sunrisers Hyderabad     Rajasthan Royals  Sunrisers Hyderabad   \n",
       "528    529  Sunrisers Hyderabad     Rajasthan Royals     Rajasthan Royals   \n",
       "557    558  Sunrisers Hyderabad     Rajasthan Royals  Sunrisers Hyderabad   \n",
       "639   7897     Rajasthan Royals  Sunrisers Hyderabad  Sunrisers Hyderabad   \n",
       "663   7921  Sunrisers Hyderabad     Rajasthan Royals  Sunrisers Hyderabad   \n",
       "703  11144     Rajasthan Royals  Sunrisers Hyderabad  Sunrisers Hyderabad   \n",
       "740  11336  Sunrisers Hyderabad     Rajasthan Royals     Rajasthan Royals   \n",
       "\n",
       "     result          toss_winner toss_decision  season  \n",
       "415  normal  Sunrisers Hyderabad           bat    2013  \n",
       "448  normal  Sunrisers Hyderabad           bat    2013  \n",
       "454  normal  Sunrisers Hyderabad           bat    2013  \n",
       "460  normal     Rajasthan Royals         field    2014  \n",
       "486  normal     Rajasthan Royals         field    2014  \n",
       "528  normal     Rajasthan Royals         field    2015  \n",
       "557  normal     Rajasthan Royals         field    2015  \n",
       "639  normal  Sunrisers Hyderabad         field    2018  \n",
       "663  normal  Sunrisers Hyderabad           bat    2018  \n",
       "703  normal     Rajasthan Royals           bat    2019  \n",
       "740  normal     Rajasthan Royals         field    2019  "
      ]
     },
     "execution_count": 295,
     "metadata": {},
     "output_type": "execute_result"
    }
   ],
   "source": [
    "df3 = df2[(df2['team1']=='Sunrisers Hyderabad') & (df2['team2'] == 'Rajasthan Royals') | (df2['team1']=='Rajasthan Royals') & (df2['team2'] == 'Sunrisers Hyderabad')]\n",
    "df3\n",
    "\n"
   ]
  },
  {
   "cell_type": "code",
   "execution_count": 296,
   "metadata": {},
   "outputs": [
    {
     "data": {
      "text/plain": [
       "Sunrisers Hyderabad    6\n",
       "Rajasthan Royals       5\n",
       "Name: winner, dtype: int64"
      ]
     },
     "execution_count": 296,
     "metadata": {},
     "output_type": "execute_result"
    }
   ],
   "source": [
    "df3['winner'].value_counts()\n"
   ]
  },
  {
   "cell_type": "code",
   "execution_count": 297,
   "metadata": {},
   "outputs": [
    {
     "data": {
      "text/plain": [
       "11"
      ]
     },
     "execution_count": 297,
     "metadata": {},
     "output_type": "execute_result"
    }
   ],
   "source": [
    "total_matches=df3['id'].nunique()\n",
    "total_matches"
   ]
  },
  {
   "cell_type": "code",
   "execution_count": 298,
   "metadata": {},
   "outputs": [
    {
     "data": {
      "text/plain": [
       "Text(0, 5, '5')"
      ]
     },
     "execution_count": 298,
     "metadata": {},
     "output_type": "execute_result"
    },
    {
     "data": {
      "image/png": "[encoded data removed]",
      "text/plain": [
       "<Figure size 432x288 with 1 Axes>"
      ]
     },
     "metadata": {
      "needs_background": "light"
     },
     "output_type": "display_data"
    }
   ],
   "source": [
    "sns.countplot(df3['winner'])\n",
    "\n",
    "plt.text(1,6,str(6))\n",
    "plt.text(0,5,str(5))"
   ]
  },
  {
   "cell_type": "code",
   "execution_count": 299,
   "metadata": {},
   "outputs": [
    {
     "data": {
      "text/plain": [
       "field    6\n",
       "bat      5\n",
       "Name: toss_decision, dtype: int64"
      ]
     },
     "execution_count": 299,
     "metadata": {},
     "output_type": "execute_result"
    }
   ],
   "source": [
    "df3['toss_decision'].value_counts()"
   ]
  },
  {
   "cell_type": "code",
   "execution_count": 300,
   "metadata": {},
   "outputs": [
    {
     "data": {
      "text/html": [
       "<div>\n",
       "<style scoped>\n",
       "    .dataframe tbody tr th:only-of-type {\n",
       "        vertical-align: middle;\n",
       "    }\n",
       "\n",
       "    .dataframe tbody tr th {\n",
       "        vertical-align: top;\n",
       "    }\n",
       "\n",
       "    .dataframe thead th {\n",
       "        text-align: right;\n",
       "    }\n",
       "</style>\n",
       "<table border=\"1\" class=\"dataframe\">\n",
       "  <thead>\n",
       "    <tr style=\"text-align: right;\">\n",
       "      <th></th>\n",
       "      <th>Team</th>\n",
       "      <th>Total Matches</th>\n",
       "      <th>wins</th>\n",
       "    </tr>\n",
       "  </thead>\n",
       "  <tbody>\n",
       "    <tr>\n",
       "      <th>0</th>\n",
       "      <td>Mumbai Indians</td>\n",
       "      <td>187</td>\n",
       "      <td>109</td>\n",
       "    </tr>\n",
       "    <tr>\n",
       "      <th>1</th>\n",
       "      <td>Royal Challengers Bangalore</td>\n",
       "      <td>180</td>\n",
       "      <td>100</td>\n",
       "    </tr>\n",
       "    <tr>\n",
       "      <th>2</th>\n",
       "      <td>Kolkata Knight Riders</td>\n",
       "      <td>178</td>\n",
       "      <td>92</td>\n",
       "    </tr>\n",
       "    <tr>\n",
       "      <th>3</th>\n",
       "      <td>Delhi Capitals</td>\n",
       "      <td>177</td>\n",
       "      <td>84</td>\n",
       "    </tr>\n",
       "    <tr>\n",
       "      <th>4</th>\n",
       "      <td>Kings XI Punjab</td>\n",
       "      <td>176</td>\n",
       "      <td>82</td>\n",
       "    </tr>\n",
       "    <tr>\n",
       "      <th>5</th>\n",
       "      <td>Chennai Super Kings</td>\n",
       "      <td>164</td>\n",
       "      <td>77</td>\n",
       "    </tr>\n",
       "    <tr>\n",
       "      <th>6</th>\n",
       "      <td>Rajasthan Royals</td>\n",
       "      <td>147</td>\n",
       "      <td>75</td>\n",
       "    </tr>\n",
       "    <tr>\n",
       "      <th>7</th>\n",
       "      <td>Sunrisers Hyderabad</td>\n",
       "      <td>108</td>\n",
       "      <td>58</td>\n",
       "    </tr>\n",
       "  </tbody>\n",
       "</table>\n",
       "</div>"
      ],
      "text/plain": [
       "                          Team  Total Matches  wins\n",
       "0               Mumbai Indians            187   109\n",
       "1  Royal Challengers Bangalore            180   100\n",
       "2        Kolkata Knight Riders            178    92\n",
       "3               Delhi Capitals            177    84\n",
       "4              Kings XI Punjab            176    82\n",
       "5          Chennai Super Kings            164    77\n",
       "6             Rajasthan Royals            147    75\n",
       "7          Sunrisers Hyderabad            108    58"
      ]
     },
     "execution_count": 300,
     "metadata": {},
     "output_type": "execute_result"
    }
   ],
   "source": [
    "matches_played=pd.concat([df1['team1'],df1['team2']])\n",
    "matches_played=matches_played.value_counts().reset_index()\n",
    "matches_played.columns=['Team','Total Matches']\n",
    "matches_played['wins']=df1['winner'].value_counts().reset_index()['winner']\n",
    "\n",
    "matches_played.set_index('Team',inplace=True)\n",
    "matches_played.reset_index().head(8)\n"
   ]
  },
  {
   "cell_type": "code",
   "execution_count": 301,
   "metadata": {},
   "outputs": [
    {
     "data": {
      "text/plain": [
       "Team\n",
       "Mumbai Indians                 58.3\n",
       "Royal Challengers Bangalore    55.6\n",
       "Kolkata Knight Riders          51.7\n",
       "Delhi Capitals                 47.5\n",
       "Kings XI Punjab                46.6\n",
       "Chennai Super Kings            47.0\n",
       "Rajasthan Royals               51.0\n",
       "Sunrisers Hyderabad            53.7\n",
       "dtype: float64"
      ]
     },
     "execution_count": 301,
     "metadata": {},
     "output_type": "execute_result"
    }
   ],
   "source": [
    "win_percentage = round(matches_played['wins']/matches_played['Total Matches'],3)*100\n",
    "win_percentage.head(8)"
   ]
  },
  {
   "cell_type": "code",
   "execution_count": 302,
   "metadata": {},
   "outputs": [
    {
     "data": {
      "text/plain": [
       "team1\n",
       "Chennai Super Kings            164\n",
       "Deccan Chargers                 75\n",
       "Delhi Capitals                 177\n",
       "Gujarat Lions                   30\n",
       "Kings XI Punjab                176\n",
       "Kochi Tuskers Kerala            14\n",
       "Kolkata Knight Riders          178\n",
       "Mumbai Indians                 187\n",
       "Pune Warriors                   46\n",
       "Rajasthan Royals               147\n",
       "Rising Pune Supergiant          16\n",
       "Rising Pune Supergiants         14\n",
       "Royal Challengers Bangalore    180\n",
       "Sunrisers Hyderabad            108\n",
       "Name: id, dtype: int64"
      ]
     },
     "execution_count": 302,
     "metadata": {},
     "output_type": "execute_result"
    }
   ],
   "source": [
    "total=df1.groupby('team1')['id'].count() + df1.groupby('team2')['id'].count()\n",
    "total"
   ]
  },
  {
   "cell_type": "code",
   "execution_count": 303,
   "metadata": {},
   "outputs": [
    {
     "data": {
      "text/plain": [
       "Text(0.5, 1.0, 'WIN PERCENTAGE BY TEAMS')"
      ]
     },
     "execution_count": 303,
     "metadata": {},
     "output_type": "execute_result"
    },
    {
     "data": {
      "image/png": "[encoded data removed]",
      "text/plain": [
       "<Figure size 720x720 with 1 Axes>"
      ]
     },
     "metadata": {
      "needs_background": "light"
     },
     "output_type": "display_data"
    }
   ],
   "source": [
    "plt.figure(figsize=(10,10))\n",
    "plt.bar(win_percentage.index,((df1['winner'].value_counts()/ total)*100).sort_values())\n",
    "plt.xticks(rotation=90)\n",
    "plt.title('WIN PERCENTAGE BY TEAMS')"
   ]
  },
  {
   "cell_type": "code",
   "execution_count": 304,
   "metadata": {},
   "outputs": [
    {
     "data": {
      "text/plain": [
       "Text(0, 3, '4')"
      ]
     },
     "execution_count": 304,
     "metadata": {},
     "output_type": "execute_result"
    },
    {
     "data": {
      "image/png": "[encoded data removed]",
      "text/plain": [
       "<Figure size 432x288 with 1 Axes>"
      ]
     },
     "metadata": {
      "needs_background": "light"
     },
     "output_type": "display_data"
    }
   ],
   "source": [
    "last_3=df3[df3['season']>2016]\n",
    "sns.countplot(last_3['winner'],data=last_3)\n",
    "plt.text(1,1,str(2),fontsize=15)\n",
    "plt.text(0,3,str(4),fontsize=15)"
   ]
  },
  {
   "cell_type": "markdown",
   "metadata": {},
   "source": [
    "# QUES 2"
   ]
  },
  {
   "cell_type": "code",
   "execution_count": 305,
   "metadata": {},
   "outputs": [
    {
     "data": {
      "text/html": [
       "<div>\n",
       "<style scoped>\n",
       "    .dataframe tbody tr th:only-of-type {\n",
       "        vertical-align: middle;\n",
       "    }\n",
       "\n",
       "    .dataframe tbody tr th {\n",
       "        vertical-align: top;\n",
       "    }\n",
       "\n",
       "    .dataframe thead th {\n",
       "        text-align: right;\n",
       "    }\n",
       "</style>\n",
       "<table border=\"1\" class=\"dataframe\">\n",
       "  <thead>\n",
       "    <tr style=\"text-align: right;\">\n",
       "      <th></th>\n",
       "      <th>match_id</th>\n",
       "      <th>bowler</th>\n",
       "      <th>ball</th>\n",
       "      <th>over</th>\n",
       "      <th>batting_team</th>\n",
       "      <th>player_dismissed</th>\n",
       "    </tr>\n",
       "  </thead>\n",
       "  <tbody>\n",
       "    <tr>\n",
       "      <th>151233</th>\n",
       "      <td>7897</td>\n",
       "      <td>Rashid Khan</td>\n",
       "      <td>1</td>\n",
       "      <td>8</td>\n",
       "      <td>Rajasthan Royals</td>\n",
       "      <td>0</td>\n",
       "    </tr>\n",
       "    <tr>\n",
       "      <th>151234</th>\n",
       "      <td>7897</td>\n",
       "      <td>Rashid Khan</td>\n",
       "      <td>2</td>\n",
       "      <td>8</td>\n",
       "      <td>Rajasthan Royals</td>\n",
       "      <td>0</td>\n",
       "    </tr>\n",
       "    <tr>\n",
       "      <th>151235</th>\n",
       "      <td>7897</td>\n",
       "      <td>Rashid Khan</td>\n",
       "      <td>3</td>\n",
       "      <td>8</td>\n",
       "      <td>Rajasthan Royals</td>\n",
       "      <td>0</td>\n",
       "    </tr>\n",
       "    <tr>\n",
       "      <th>151236</th>\n",
       "      <td>7897</td>\n",
       "      <td>Rashid Khan</td>\n",
       "      <td>4</td>\n",
       "      <td>8</td>\n",
       "      <td>Rajasthan Royals</td>\n",
       "      <td>0</td>\n",
       "    </tr>\n",
       "    <tr>\n",
       "      <th>151237</th>\n",
       "      <td>7897</td>\n",
       "      <td>Rashid Khan</td>\n",
       "      <td>5</td>\n",
       "      <td>8</td>\n",
       "      <td>Rajasthan Royals</td>\n",
       "      <td>0</td>\n",
       "    </tr>\n",
       "    <tr>\n",
       "      <th>...</th>\n",
       "      <td>...</td>\n",
       "      <td>...</td>\n",
       "      <td>...</td>\n",
       "      <td>...</td>\n",
       "      <td>...</td>\n",
       "      <td>...</td>\n",
       "    </tr>\n",
       "    <tr>\n",
       "      <th>175628</th>\n",
       "      <td>11336</td>\n",
       "      <td>Rashid Khan</td>\n",
       "      <td>2</td>\n",
       "      <td>14</td>\n",
       "      <td>Rajasthan Royals</td>\n",
       "      <td>0</td>\n",
       "    </tr>\n",
       "    <tr>\n",
       "      <th>175629</th>\n",
       "      <td>11336</td>\n",
       "      <td>Rashid Khan</td>\n",
       "      <td>3</td>\n",
       "      <td>14</td>\n",
       "      <td>Rajasthan Royals</td>\n",
       "      <td>0</td>\n",
       "    </tr>\n",
       "    <tr>\n",
       "      <th>175630</th>\n",
       "      <td>11336</td>\n",
       "      <td>Rashid Khan</td>\n",
       "      <td>4</td>\n",
       "      <td>14</td>\n",
       "      <td>Rajasthan Royals</td>\n",
       "      <td>0</td>\n",
       "    </tr>\n",
       "    <tr>\n",
       "      <th>175631</th>\n",
       "      <td>11336</td>\n",
       "      <td>Rashid Khan</td>\n",
       "      <td>5</td>\n",
       "      <td>14</td>\n",
       "      <td>Rajasthan Royals</td>\n",
       "      <td>0</td>\n",
       "    </tr>\n",
       "    <tr>\n",
       "      <th>175632</th>\n",
       "      <td>11336</td>\n",
       "      <td>Rashid Khan</td>\n",
       "      <td>6</td>\n",
       "      <td>14</td>\n",
       "      <td>Rajasthan Royals</td>\n",
       "      <td>0</td>\n",
       "    </tr>\n",
       "  </tbody>\n",
       "</table>\n",
       "<p>96 rows × 6 columns</p>\n",
       "</div>"
      ],
      "text/plain": [
       "        match_id       bowler  ball  over      batting_team player_dismissed\n",
       "151233      7897  Rashid Khan     1     8  Rajasthan Royals                0\n",
       "151234      7897  Rashid Khan     2     8  Rajasthan Royals                0\n",
       "151235      7897  Rashid Khan     3     8  Rajasthan Royals                0\n",
       "151236      7897  Rashid Khan     4     8  Rajasthan Royals                0\n",
       "151237      7897  Rashid Khan     5     8  Rajasthan Royals                0\n",
       "...          ...          ...   ...   ...               ...              ...\n",
       "175628     11336  Rashid Khan     2    14  Rajasthan Royals                0\n",
       "175629     11336  Rashid Khan     3    14  Rajasthan Royals                0\n",
       "175630     11336  Rashid Khan     4    14  Rajasthan Royals                0\n",
       "175631     11336  Rashid Khan     5    14  Rajasthan Royals                0\n",
       "175632     11336  Rashid Khan     6    14  Rajasthan Royals                0\n",
       "\n",
       "[96 rows x 6 columns]"
      ]
     },
     "execution_count": 305,
     "metadata": {},
     "output_type": "execute_result"
    }
   ],
   "source": [
    "a= df[['match_id','bowler','ball','over','batting_team','player_dismissed']]\n",
    "a=a[(a['bowler'] == 'Rashid Khan') & (a['batting_team'] == 'Rajasthan Royals')]\n",
    "a=a.fillna(0)\n",
    "a"
   ]
  },
  {
   "cell_type": "code",
   "execution_count": 306,
   "metadata": {},
   "outputs": [
    {
     "data": {
      "text/html": [
       "<div>\n",
       "<style scoped>\n",
       "    .dataframe tbody tr th:only-of-type {\n",
       "        vertical-align: middle;\n",
       "    }\n",
       "\n",
       "    .dataframe tbody tr th {\n",
       "        vertical-align: top;\n",
       "    }\n",
       "\n",
       "    .dataframe thead th {\n",
       "        text-align: right;\n",
       "    }\n",
       "</style>\n",
       "<table border=\"1\" class=\"dataframe\">\n",
       "  <thead>\n",
       "    <tr style=\"text-align: right;\">\n",
       "      <th></th>\n",
       "      <th>match_id</th>\n",
       "      <th>bowler</th>\n",
       "      <th>ball</th>\n",
       "      <th>over</th>\n",
       "      <th>batting_team</th>\n",
       "      <th>player_dismissed</th>\n",
       "    </tr>\n",
       "  </thead>\n",
       "  <tbody>\n",
       "    <tr>\n",
       "      <th>151233</th>\n",
       "      <td>7897</td>\n",
       "      <td>Rashid Khan</td>\n",
       "      <td>1</td>\n",
       "      <td>8</td>\n",
       "      <td>Rajasthan Royals</td>\n",
       "      <td>NO WICKET</td>\n",
       "    </tr>\n",
       "    <tr>\n",
       "      <th>151234</th>\n",
       "      <td>7897</td>\n",
       "      <td>Rashid Khan</td>\n",
       "      <td>2</td>\n",
       "      <td>8</td>\n",
       "      <td>Rajasthan Royals</td>\n",
       "      <td>NO WICKET</td>\n",
       "    </tr>\n",
       "    <tr>\n",
       "      <th>151235</th>\n",
       "      <td>7897</td>\n",
       "      <td>Rashid Khan</td>\n",
       "      <td>3</td>\n",
       "      <td>8</td>\n",
       "      <td>Rajasthan Royals</td>\n",
       "      <td>NO WICKET</td>\n",
       "    </tr>\n",
       "    <tr>\n",
       "      <th>151236</th>\n",
       "      <td>7897</td>\n",
       "      <td>Rashid Khan</td>\n",
       "      <td>4</td>\n",
       "      <td>8</td>\n",
       "      <td>Rajasthan Royals</td>\n",
       "      <td>NO WICKET</td>\n",
       "    </tr>\n",
       "    <tr>\n",
       "      <th>151237</th>\n",
       "      <td>7897</td>\n",
       "      <td>Rashid Khan</td>\n",
       "      <td>5</td>\n",
       "      <td>8</td>\n",
       "      <td>Rajasthan Royals</td>\n",
       "      <td>NO WICKET</td>\n",
       "    </tr>\n",
       "    <tr>\n",
       "      <th>...</th>\n",
       "      <td>...</td>\n",
       "      <td>...</td>\n",
       "      <td>...</td>\n",
       "      <td>...</td>\n",
       "      <td>...</td>\n",
       "      <td>...</td>\n",
       "    </tr>\n",
       "    <tr>\n",
       "      <th>175628</th>\n",
       "      <td>11336</td>\n",
       "      <td>Rashid Khan</td>\n",
       "      <td>2</td>\n",
       "      <td>14</td>\n",
       "      <td>Rajasthan Royals</td>\n",
       "      <td>NO WICKET</td>\n",
       "    </tr>\n",
       "    <tr>\n",
       "      <th>175629</th>\n",
       "      <td>11336</td>\n",
       "      <td>Rashid Khan</td>\n",
       "      <td>3</td>\n",
       "      <td>14</td>\n",
       "      <td>Rajasthan Royals</td>\n",
       "      <td>NO WICKET</td>\n",
       "    </tr>\n",
       "    <tr>\n",
       "      <th>175630</th>\n",
       "      <td>11336</td>\n",
       "      <td>Rashid Khan</td>\n",
       "      <td>4</td>\n",
       "      <td>14</td>\n",
       "      <td>Rajasthan Royals</td>\n",
       "      <td>NO WICKET</td>\n",
       "    </tr>\n",
       "    <tr>\n",
       "      <th>175631</th>\n",
       "      <td>11336</td>\n",
       "      <td>Rashid Khan</td>\n",
       "      <td>5</td>\n",
       "      <td>14</td>\n",
       "      <td>Rajasthan Royals</td>\n",
       "      <td>NO WICKET</td>\n",
       "    </tr>\n",
       "    <tr>\n",
       "      <th>175632</th>\n",
       "      <td>11336</td>\n",
       "      <td>Rashid Khan</td>\n",
       "      <td>6</td>\n",
       "      <td>14</td>\n",
       "      <td>Rajasthan Royals</td>\n",
       "      <td>NO WICKET</td>\n",
       "    </tr>\n",
       "  </tbody>\n",
       "</table>\n",
       "<p>96 rows × 6 columns</p>\n",
       "</div>"
      ],
      "text/plain": [
       "        match_id       bowler  ball  over      batting_team player_dismissed\n",
       "151233      7897  Rashid Khan     1     8  Rajasthan Royals        NO WICKET\n",
       "151234      7897  Rashid Khan     2     8  Rajasthan Royals        NO WICKET\n",
       "151235      7897  Rashid Khan     3     8  Rajasthan Royals        NO WICKET\n",
       "151236      7897  Rashid Khan     4     8  Rajasthan Royals        NO WICKET\n",
       "151237      7897  Rashid Khan     5     8  Rajasthan Royals        NO WICKET\n",
       "...          ...          ...   ...   ...               ...              ...\n",
       "175628     11336  Rashid Khan     2    14  Rajasthan Royals        NO WICKET\n",
       "175629     11336  Rashid Khan     3    14  Rajasthan Royals        NO WICKET\n",
       "175630     11336  Rashid Khan     4    14  Rajasthan Royals        NO WICKET\n",
       "175631     11336  Rashid Khan     5    14  Rajasthan Royals        NO WICKET\n",
       "175632     11336  Rashid Khan     6    14  Rajasthan Royals        NO WICKET\n",
       "\n",
       "[96 rows x 6 columns]"
      ]
     },
     "execution_count": 306,
     "metadata": {},
     "output_type": "execute_result"
    }
   ],
   "source": [
    "a['player_dismissed'] = a['player_dismissed'].apply(lambda x: 'NO WICKET'  if x== 0 else \"WICKET\")\n",
    "a"
   ]
  },
  {
   "cell_type": "code",
   "execution_count": 307,
   "metadata": {},
   "outputs": [
    {
     "data": {
      "text/plain": [
       "NO WICKET    92\n",
       "WICKET        4\n",
       "Name: player_dismissed, dtype: int64"
      ]
     },
     "execution_count": 307,
     "metadata": {},
     "output_type": "execute_result"
    }
   ],
   "source": [
    "a['player_dismissed'].value_counts()"
   ]
  },
  {
   "cell_type": "code",
   "execution_count": 308,
   "metadata": {},
   "outputs": [],
   "source": [
    "#from above\n",
    "total_wicket_vsRR_for_Rashid=4"
   ]
  },
  {
   "cell_type": "code",
   "execution_count": 309,
   "metadata": {},
   "outputs": [
    {
     "data": {
      "text/plain": [
       "96"
      ]
     },
     "execution_count": 309,
     "metadata": {},
     "output_type": "execute_result"
    }
   ],
   "source": [
    "a['ball'].value_counts().sum()"
   ]
  },
  {
   "cell_type": "code",
   "execution_count": 310,
   "metadata": {},
   "outputs": [],
   "source": [
    "total_balls_bowled_by_Rashid_vsRR=96\n"
   ]
  },
  {
   "cell_type": "code",
   "execution_count": 311,
   "metadata": {},
   "outputs": [
    {
     "data": {
      "text/plain": [
       "24.0"
      ]
     },
     "execution_count": 311,
     "metadata": {},
     "output_type": "execute_result"
    }
   ],
   "source": [
    "balls_required_for_first_wicket=total_balls_bowled_by_Rashid_vsRR/total_wicket_vsRR_for_Rashid\n",
    "balls_required_for_first_wicket"
   ]
  },
  {
   "cell_type": "markdown",
   "metadata": {},
   "source": [
    "# QUES 3"
   ]
  },
  {
   "cell_type": "code",
   "execution_count": 312,
   "metadata": {},
   "outputs": [
    {
     "data": {
      "text/html": [
       "<div>\n",
       "<style scoped>\n",
       "    .dataframe tbody tr th:only-of-type {\n",
       "        vertical-align: middle;\n",
       "    }\n",
       "\n",
       "    .dataframe tbody tr th {\n",
       "        vertical-align: top;\n",
       "    }\n",
       "\n",
       "    .dataframe thead th {\n",
       "        text-align: right;\n",
       "    }\n",
       "</style>\n",
       "<table border=\"1\" class=\"dataframe\">\n",
       "  <thead>\n",
       "    <tr style=\"text-align: right;\">\n",
       "      <th></th>\n",
       "      <th>match_id</th>\n",
       "      <th>batsman</th>\n",
       "      <th>bowling_team</th>\n",
       "      <th>bowler</th>\n",
       "      <th>player_dismissed</th>\n",
       "      <th>dismissal_kind</th>\n",
       "    </tr>\n",
       "  </thead>\n",
       "  <tbody>\n",
       "    <tr>\n",
       "      <th>47772</th>\n",
       "      <td>203</td>\n",
       "      <td>DA Warner</td>\n",
       "      <td>Rajasthan Royals</td>\n",
       "      <td>YK Pathan</td>\n",
       "      <td>0</td>\n",
       "      <td>0</td>\n",
       "    </tr>\n",
       "    <tr>\n",
       "      <th>47773</th>\n",
       "      <td>203</td>\n",
       "      <td>DA Warner</td>\n",
       "      <td>Rajasthan Royals</td>\n",
       "      <td>YK Pathan</td>\n",
       "      <td>0</td>\n",
       "      <td>0</td>\n",
       "    </tr>\n",
       "    <tr>\n",
       "      <th>47778</th>\n",
       "      <td>203</td>\n",
       "      <td>DA Warner</td>\n",
       "      <td>Rajasthan Royals</td>\n",
       "      <td>S Narwal</td>\n",
       "      <td>0</td>\n",
       "      <td>0</td>\n",
       "    </tr>\n",
       "    <tr>\n",
       "      <th>47779</th>\n",
       "      <td>203</td>\n",
       "      <td>DA Warner</td>\n",
       "      <td>Rajasthan Royals</td>\n",
       "      <td>S Narwal</td>\n",
       "      <td>0</td>\n",
       "      <td>0</td>\n",
       "    </tr>\n",
       "    <tr>\n",
       "      <th>47781</th>\n",
       "      <td>203</td>\n",
       "      <td>DA Warner</td>\n",
       "      <td>Rajasthan Royals</td>\n",
       "      <td>S Narwal</td>\n",
       "      <td>0</td>\n",
       "      <td>0</td>\n",
       "    </tr>\n",
       "    <tr>\n",
       "      <th>...</th>\n",
       "      <td>...</td>\n",
       "      <td>...</td>\n",
       "      <td>...</td>\n",
       "      <td>...</td>\n",
       "      <td>...</td>\n",
       "      <td>...</td>\n",
       "    </tr>\n",
       "    <tr>\n",
       "      <th>175488</th>\n",
       "      <td>11336</td>\n",
       "      <td>DA Warner</td>\n",
       "      <td>Rajasthan Royals</td>\n",
       "      <td>JD Unadkat</td>\n",
       "      <td>0</td>\n",
       "      <td>0</td>\n",
       "    </tr>\n",
       "    <tr>\n",
       "      <th>175489</th>\n",
       "      <td>11336</td>\n",
       "      <td>DA Warner</td>\n",
       "      <td>Rajasthan Royals</td>\n",
       "      <td>STR Binny</td>\n",
       "      <td>0</td>\n",
       "      <td>0</td>\n",
       "    </tr>\n",
       "    <tr>\n",
       "      <th>175490</th>\n",
       "      <td>11336</td>\n",
       "      <td>DA Warner</td>\n",
       "      <td>Rajasthan Royals</td>\n",
       "      <td>STR Binny</td>\n",
       "      <td>0</td>\n",
       "      <td>0</td>\n",
       "    </tr>\n",
       "    <tr>\n",
       "      <th>175495</th>\n",
       "      <td>11336</td>\n",
       "      <td>DA Warner</td>\n",
       "      <td>Rajasthan Royals</td>\n",
       "      <td>STR Binny</td>\n",
       "      <td>0</td>\n",
       "      <td>0</td>\n",
       "    </tr>\n",
       "    <tr>\n",
       "      <th>175496</th>\n",
       "      <td>11336</td>\n",
       "      <td>DA Warner</td>\n",
       "      <td>Rajasthan Royals</td>\n",
       "      <td>O Thomas</td>\n",
       "      <td>DA Warner</td>\n",
       "      <td>caught</td>\n",
       "    </tr>\n",
       "  </tbody>\n",
       "</table>\n",
       "<p>275 rows × 6 columns</p>\n",
       "</div>"
      ],
      "text/plain": [
       "        match_id    batsman      bowling_team      bowler player_dismissed  \\\n",
       "47772        203  DA Warner  Rajasthan Royals   YK Pathan                0   \n",
       "47773        203  DA Warner  Rajasthan Royals   YK Pathan                0   \n",
       "47778        203  DA Warner  Rajasthan Royals    S Narwal                0   \n",
       "47779        203  DA Warner  Rajasthan Royals    S Narwal                0   \n",
       "47781        203  DA Warner  Rajasthan Royals    S Narwal                0   \n",
       "...          ...        ...               ...         ...              ...   \n",
       "175488     11336  DA Warner  Rajasthan Royals  JD Unadkat                0   \n",
       "175489     11336  DA Warner  Rajasthan Royals   STR Binny                0   \n",
       "175490     11336  DA Warner  Rajasthan Royals   STR Binny                0   \n",
       "175495     11336  DA Warner  Rajasthan Royals   STR Binny                0   \n",
       "175496     11336  DA Warner  Rajasthan Royals    O Thomas        DA Warner   \n",
       "\n",
       "       dismissal_kind  \n",
       "47772               0  \n",
       "47773               0  \n",
       "47778               0  \n",
       "47779               0  \n",
       "47781               0  \n",
       "...               ...  \n",
       "175488              0  \n",
       "175489              0  \n",
       "175490              0  \n",
       "175495              0  \n",
       "175496         caught  \n",
       "\n",
       "[275 rows x 6 columns]"
      ]
     },
     "execution_count": 312,
     "metadata": {},
     "output_type": "execute_result"
    }
   ],
   "source": [
    "df4= df[['match_id','batsman','bowling_team','bowler','player_dismissed','dismissal_kind']]\n",
    "df4=df4[(df4['batsman'] == 'DA Warner') & (df4['bowling_team'] == 'Rajasthan Royals')]\n",
    "df4=df4.fillna(0)\n",
    "df4"
   ]
  },
  {
   "cell_type": "code",
   "execution_count": 313,
   "metadata": {},
   "outputs": [
    {
     "data": {
      "text/html": [
       "<div>\n",
       "<style scoped>\n",
       "    .dataframe tbody tr th:only-of-type {\n",
       "        vertical-align: middle;\n",
       "    }\n",
       "\n",
       "    .dataframe tbody tr th {\n",
       "        vertical-align: top;\n",
       "    }\n",
       "\n",
       "    .dataframe thead th {\n",
       "        text-align: right;\n",
       "    }\n",
       "</style>\n",
       "<table border=\"1\" class=\"dataframe\">\n",
       "  <thead>\n",
       "    <tr style=\"text-align: right;\">\n",
       "      <th></th>\n",
       "      <th>match_id</th>\n",
       "      <th>batsman</th>\n",
       "      <th>bowling_team</th>\n",
       "      <th>bowler</th>\n",
       "      <th>player_dismissed</th>\n",
       "      <th>dismissal_kind</th>\n",
       "    </tr>\n",
       "  </thead>\n",
       "  <tbody>\n",
       "    <tr>\n",
       "      <th>47772</th>\n",
       "      <td>203</td>\n",
       "      <td>DA Warner</td>\n",
       "      <td>Rajasthan Royals</td>\n",
       "      <td>YK Pathan</td>\n",
       "      <td>NO WICKET</td>\n",
       "      <td>0</td>\n",
       "    </tr>\n",
       "    <tr>\n",
       "      <th>47773</th>\n",
       "      <td>203</td>\n",
       "      <td>DA Warner</td>\n",
       "      <td>Rajasthan Royals</td>\n",
       "      <td>YK Pathan</td>\n",
       "      <td>NO WICKET</td>\n",
       "      <td>0</td>\n",
       "    </tr>\n",
       "    <tr>\n",
       "      <th>47778</th>\n",
       "      <td>203</td>\n",
       "      <td>DA Warner</td>\n",
       "      <td>Rajasthan Royals</td>\n",
       "      <td>S Narwal</td>\n",
       "      <td>NO WICKET</td>\n",
       "      <td>0</td>\n",
       "    </tr>\n",
       "    <tr>\n",
       "      <th>47779</th>\n",
       "      <td>203</td>\n",
       "      <td>DA Warner</td>\n",
       "      <td>Rajasthan Royals</td>\n",
       "      <td>S Narwal</td>\n",
       "      <td>NO WICKET</td>\n",
       "      <td>0</td>\n",
       "    </tr>\n",
       "    <tr>\n",
       "      <th>47781</th>\n",
       "      <td>203</td>\n",
       "      <td>DA Warner</td>\n",
       "      <td>Rajasthan Royals</td>\n",
       "      <td>S Narwal</td>\n",
       "      <td>NO WICKET</td>\n",
       "      <td>0</td>\n",
       "    </tr>\n",
       "    <tr>\n",
       "      <th>...</th>\n",
       "      <td>...</td>\n",
       "      <td>...</td>\n",
       "      <td>...</td>\n",
       "      <td>...</td>\n",
       "      <td>...</td>\n",
       "      <td>...</td>\n",
       "    </tr>\n",
       "    <tr>\n",
       "      <th>175488</th>\n",
       "      <td>11336</td>\n",
       "      <td>DA Warner</td>\n",
       "      <td>Rajasthan Royals</td>\n",
       "      <td>JD Unadkat</td>\n",
       "      <td>NO WICKET</td>\n",
       "      <td>0</td>\n",
       "    </tr>\n",
       "    <tr>\n",
       "      <th>175489</th>\n",
       "      <td>11336</td>\n",
       "      <td>DA Warner</td>\n",
       "      <td>Rajasthan Royals</td>\n",
       "      <td>STR Binny</td>\n",
       "      <td>NO WICKET</td>\n",
       "      <td>0</td>\n",
       "    </tr>\n",
       "    <tr>\n",
       "      <th>175490</th>\n",
       "      <td>11336</td>\n",
       "      <td>DA Warner</td>\n",
       "      <td>Rajasthan Royals</td>\n",
       "      <td>STR Binny</td>\n",
       "      <td>NO WICKET</td>\n",
       "      <td>0</td>\n",
       "    </tr>\n",
       "    <tr>\n",
       "      <th>175495</th>\n",
       "      <td>11336</td>\n",
       "      <td>DA Warner</td>\n",
       "      <td>Rajasthan Royals</td>\n",
       "      <td>STR Binny</td>\n",
       "      <td>NO WICKET</td>\n",
       "      <td>0</td>\n",
       "    </tr>\n",
       "    <tr>\n",
       "      <th>175496</th>\n",
       "      <td>11336</td>\n",
       "      <td>DA Warner</td>\n",
       "      <td>Rajasthan Royals</td>\n",
       "      <td>O Thomas</td>\n",
       "      <td>WICKET</td>\n",
       "      <td>caught</td>\n",
       "    </tr>\n",
       "  </tbody>\n",
       "</table>\n",
       "<p>275 rows × 6 columns</p>\n",
       "</div>"
      ],
      "text/plain": [
       "        match_id    batsman      bowling_team      bowler player_dismissed  \\\n",
       "47772        203  DA Warner  Rajasthan Royals   YK Pathan        NO WICKET   \n",
       "47773        203  DA Warner  Rajasthan Royals   YK Pathan        NO WICKET   \n",
       "47778        203  DA Warner  Rajasthan Royals    S Narwal        NO WICKET   \n",
       "47779        203  DA Warner  Rajasthan Royals    S Narwal        NO WICKET   \n",
       "47781        203  DA Warner  Rajasthan Royals    S Narwal        NO WICKET   \n",
       "...          ...        ...               ...         ...              ...   \n",
       "175488     11336  DA Warner  Rajasthan Royals  JD Unadkat        NO WICKET   \n",
       "175489     11336  DA Warner  Rajasthan Royals   STR Binny        NO WICKET   \n",
       "175490     11336  DA Warner  Rajasthan Royals   STR Binny        NO WICKET   \n",
       "175495     11336  DA Warner  Rajasthan Royals   STR Binny        NO WICKET   \n",
       "175496     11336  DA Warner  Rajasthan Royals    O Thomas           WICKET   \n",
       "\n",
       "       dismissal_kind  \n",
       "47772               0  \n",
       "47773               0  \n",
       "47778               0  \n",
       "47779               0  \n",
       "47781               0  \n",
       "...               ...  \n",
       "175488              0  \n",
       "175489              0  \n",
       "175490              0  \n",
       "175495              0  \n",
       "175496         caught  \n",
       "\n",
       "[275 rows x 6 columns]"
      ]
     },
     "execution_count": 313,
     "metadata": {},
     "output_type": "execute_result"
    }
   ],
   "source": [
    "df4['player_dismissed'] = df4['player_dismissed'].apply(lambda x: 'NO WICKET'  if x== 0 else 'WICKET')\n",
    "df4"
   ]
  },
  {
   "cell_type": "code",
   "execution_count": 314,
   "metadata": {},
   "outputs": [
    {
     "data": {
      "text/plain": [
       "NO WICKET    266\n",
       "WICKET         9\n",
       "Name: player_dismissed, dtype: int64"
      ]
     },
     "execution_count": 314,
     "metadata": {},
     "output_type": "execute_result"
    }
   ],
   "source": [
    "df4['player_dismissed'].value_counts()"
   ]
  },
  {
   "cell_type": "code",
   "execution_count": 315,
   "metadata": {},
   "outputs": [
    {
     "data": {
      "text/plain": [
       "0          266\n",
       "caught       6\n",
       "bowled       1\n",
       "stumped      1\n",
       "run out      1\n",
       "Name: dismissal_kind, dtype: int64"
      ]
     },
     "execution_count": 315,
     "metadata": {},
     "output_type": "execute_result"
    }
   ],
   "source": [
    "df4['dismissal_kind'].value_counts()"
   ]
  },
  {
   "cell_type": "code",
   "execution_count": 316,
   "metadata": {},
   "outputs": [
    {
     "data": {
      "text/plain": [
       "0          0.967273\n",
       "caught     0.021818\n",
       "bowled     0.003636\n",
       "stumped    0.003636\n",
       "run out    0.003636\n",
       "Name: dismissal_kind, dtype: float64"
      ]
     },
     "execution_count": 316,
     "metadata": {},
     "output_type": "execute_result"
    }
   ],
   "source": [
    "df4['dismissal_kind'].value_counts(normalize=True)"
   ]
  },
  {
   "cell_type": "code",
   "execution_count": 317,
   "metadata": {},
   "outputs": [],
   "source": [
    "#From above getting dismissed by caught is more as compared to stumped,run out,bowled"
   ]
  },
  {
   "cell_type": "markdown",
   "metadata": {},
   "source": [
    "# QUES 4"
   ]
  },
  {
   "cell_type": "code",
   "execution_count": 318,
   "metadata": {},
   "outputs": [
    {
     "data": {
      "text/html": [
       "<div>\n",
       "<style scoped>\n",
       "    .dataframe tbody tr th:only-of-type {\n",
       "        vertical-align: middle;\n",
       "    }\n",
       "\n",
       "    .dataframe tbody tr th {\n",
       "        vertical-align: top;\n",
       "    }\n",
       "\n",
       "    .dataframe thead th {\n",
       "        text-align: right;\n",
       "    }\n",
       "</style>\n",
       "<table border=\"1\" class=\"dataframe\">\n",
       "  <thead>\n",
       "    <tr style=\"text-align: right;\">\n",
       "      <th></th>\n",
       "      <th>match_id</th>\n",
       "      <th>batsman</th>\n",
       "      <th>bowling_team</th>\n",
       "      <th>bowler</th>\n",
       "      <th>batsman_runs</th>\n",
       "    </tr>\n",
       "  </thead>\n",
       "  <tbody>\n",
       "    <tr>\n",
       "      <th>2244</th>\n",
       "      <td>10</td>\n",
       "      <td>JC Buttler</td>\n",
       "      <td>Sunrisers Hyderabad</td>\n",
       "      <td>B Kumar</td>\n",
       "      <td>0</td>\n",
       "    </tr>\n",
       "    <tr>\n",
       "      <th>2245</th>\n",
       "      <td>10</td>\n",
       "      <td>JC Buttler</td>\n",
       "      <td>Sunrisers Hyderabad</td>\n",
       "      <td>B Kumar</td>\n",
       "      <td>0</td>\n",
       "    </tr>\n",
       "    <tr>\n",
       "      <th>2246</th>\n",
       "      <td>10</td>\n",
       "      <td>JC Buttler</td>\n",
       "      <td>Sunrisers Hyderabad</td>\n",
       "      <td>B Kumar</td>\n",
       "      <td>4</td>\n",
       "    </tr>\n",
       "    <tr>\n",
       "      <th>2247</th>\n",
       "      <td>10</td>\n",
       "      <td>JC Buttler</td>\n",
       "      <td>Sunrisers Hyderabad</td>\n",
       "      <td>B Kumar</td>\n",
       "      <td>0</td>\n",
       "    </tr>\n",
       "    <tr>\n",
       "      <th>2248</th>\n",
       "      <td>10</td>\n",
       "      <td>JC Buttler</td>\n",
       "      <td>Sunrisers Hyderabad</td>\n",
       "      <td>A Nehra</td>\n",
       "      <td>4</td>\n",
       "    </tr>\n",
       "    <tr>\n",
       "      <th>...</th>\n",
       "      <td>...</td>\n",
       "      <td>...</td>\n",
       "      <td>...</td>\n",
       "      <td>...</td>\n",
       "      <td>...</td>\n",
       "    </tr>\n",
       "    <tr>\n",
       "      <th>175657</th>\n",
       "      <td>11336</td>\n",
       "      <td>SV Samson</td>\n",
       "      <td>Sunrisers Hyderabad</td>\n",
       "      <td>B Kumar</td>\n",
       "      <td>1</td>\n",
       "    </tr>\n",
       "    <tr>\n",
       "      <th>175658</th>\n",
       "      <td>11336</td>\n",
       "      <td>SV Samson</td>\n",
       "      <td>Sunrisers Hyderabad</td>\n",
       "      <td>S Kaul</td>\n",
       "      <td>2</td>\n",
       "    </tr>\n",
       "    <tr>\n",
       "      <th>175659</th>\n",
       "      <td>11336</td>\n",
       "      <td>SV Samson</td>\n",
       "      <td>Sunrisers Hyderabad</td>\n",
       "      <td>S Kaul</td>\n",
       "      <td>1</td>\n",
       "    </tr>\n",
       "    <tr>\n",
       "      <th>175662</th>\n",
       "      <td>11336</td>\n",
       "      <td>SV Samson</td>\n",
       "      <td>Sunrisers Hyderabad</td>\n",
       "      <td>S Kaul</td>\n",
       "      <td>1</td>\n",
       "    </tr>\n",
       "    <tr>\n",
       "      <th>175664</th>\n",
       "      <td>11336</td>\n",
       "      <td>SV Samson</td>\n",
       "      <td>Sunrisers Hyderabad</td>\n",
       "      <td>Shakib Al Hasan</td>\n",
       "      <td>4</td>\n",
       "    </tr>\n",
       "  </tbody>\n",
       "</table>\n",
       "<p>624 rows × 5 columns</p>\n",
       "</div>"
      ],
      "text/plain": [
       "        match_id     batsman         bowling_team           bowler  \\\n",
       "2244          10  JC Buttler  Sunrisers Hyderabad          B Kumar   \n",
       "2245          10  JC Buttler  Sunrisers Hyderabad          B Kumar   \n",
       "2246          10  JC Buttler  Sunrisers Hyderabad          B Kumar   \n",
       "2247          10  JC Buttler  Sunrisers Hyderabad          B Kumar   \n",
       "2248          10  JC Buttler  Sunrisers Hyderabad          A Nehra   \n",
       "...          ...         ...                  ...              ...   \n",
       "175657     11336   SV Samson  Sunrisers Hyderabad          B Kumar   \n",
       "175658     11336   SV Samson  Sunrisers Hyderabad           S Kaul   \n",
       "175659     11336   SV Samson  Sunrisers Hyderabad           S Kaul   \n",
       "175662     11336   SV Samson  Sunrisers Hyderabad           S Kaul   \n",
       "175664     11336   SV Samson  Sunrisers Hyderabad  Shakib Al Hasan   \n",
       "\n",
       "        batsman_runs  \n",
       "2244               0  \n",
       "2245               0  \n",
       "2246               4  \n",
       "2247               0  \n",
       "2248               4  \n",
       "...              ...  \n",
       "175657             1  \n",
       "175658             2  \n",
       "175659             1  \n",
       "175662             1  \n",
       "175664             4  \n",
       "\n",
       "[624 rows x 5 columns]"
      ]
     },
     "execution_count": 318,
     "metadata": {},
     "output_type": "execute_result"
    }
   ],
   "source": [
    "df4= df[['match_id','batsman','bowling_team','bowler','batsman_runs']]\n",
    "df4=df4[(df4['bowling_team']=='Sunrisers Hyderabad')]\n",
    "df4=df4[(df4['batsman'] == 'SV Samson') | (df4['batsman'] == 'SPD Smith')| (df4['batsman'] == 'JC Buttler') ]\n",
    "df4=df4.fillna(0)\n",
    "df4"
   ]
  },
  {
   "cell_type": "code",
   "execution_count": 319,
   "metadata": {},
   "outputs": [
    {
     "data": {
      "text/html": [
       "<div>\n",
       "<style scoped>\n",
       "    .dataframe tbody tr th:only-of-type {\n",
       "        vertical-align: middle;\n",
       "    }\n",
       "\n",
       "    .dataframe tbody tr th {\n",
       "        vertical-align: top;\n",
       "    }\n",
       "\n",
       "    .dataframe thead th {\n",
       "        text-align: right;\n",
       "    }\n",
       "</style>\n",
       "<table border=\"1\" class=\"dataframe\">\n",
       "  <thead>\n",
       "    <tr style=\"text-align: right;\">\n",
       "      <th></th>\n",
       "      <th></th>\n",
       "      <th>batsman_runs</th>\n",
       "    </tr>\n",
       "    <tr>\n",
       "      <th>batsman</th>\n",
       "      <th>match_id</th>\n",
       "      <th></th>\n",
       "    </tr>\n",
       "  </thead>\n",
       "  <tbody>\n",
       "    <tr>\n",
       "      <th rowspan=\"6\" valign=\"top\">JC Buttler</th>\n",
       "      <th>10</th>\n",
       "      <td>14</td>\n",
       "    </tr>\n",
       "    <tr>\n",
       "      <th>588</th>\n",
       "      <td>11</td>\n",
       "    </tr>\n",
       "    <tr>\n",
       "      <th>613</th>\n",
       "      <td>2</td>\n",
       "    </tr>\n",
       "    <tr>\n",
       "      <th>7897</th>\n",
       "      <td>6</td>\n",
       "    </tr>\n",
       "    <tr>\n",
       "      <th>7921</th>\n",
       "      <td>10</td>\n",
       "    </tr>\n",
       "    <tr>\n",
       "      <th>11144</th>\n",
       "      <td>6</td>\n",
       "    </tr>\n",
       "    <tr>\n",
       "      <th rowspan=\"8\" valign=\"top\">SPD Smith</th>\n",
       "      <th>25</th>\n",
       "      <td>27</td>\n",
       "    </tr>\n",
       "    <tr>\n",
       "      <th>43</th>\n",
       "      <td>34</td>\n",
       "    </tr>\n",
       "    <tr>\n",
       "      <th>402</th>\n",
       "      <td>17</td>\n",
       "    </tr>\n",
       "    <tr>\n",
       "      <th>487</th>\n",
       "      <td>22</td>\n",
       "    </tr>\n",
       "    <tr>\n",
       "      <th>529</th>\n",
       "      <td>13</td>\n",
       "    </tr>\n",
       "    <tr>\n",
       "      <th>558</th>\n",
       "      <td>68</td>\n",
       "    </tr>\n",
       "    <tr>\n",
       "      <th>598</th>\n",
       "      <td>46</td>\n",
       "    </tr>\n",
       "    <tr>\n",
       "      <th>11336</th>\n",
       "      <td>22</td>\n",
       "    </tr>\n",
       "    <tr>\n",
       "      <th rowspan=\"14\" valign=\"top\">SV Samson</th>\n",
       "      <th>21</th>\n",
       "      <td>42</td>\n",
       "    </tr>\n",
       "    <tr>\n",
       "      <th>39</th>\n",
       "      <td>24</td>\n",
       "    </tr>\n",
       "    <tr>\n",
       "      <th>449</th>\n",
       "      <td>5</td>\n",
       "    </tr>\n",
       "    <tr>\n",
       "      <th>455</th>\n",
       "      <td>10</td>\n",
       "    </tr>\n",
       "    <tr>\n",
       "      <th>461</th>\n",
       "      <td>3</td>\n",
       "    </tr>\n",
       "    <tr>\n",
       "      <th>487</th>\n",
       "      <td>16</td>\n",
       "    </tr>\n",
       "    <tr>\n",
       "      <th>529</th>\n",
       "      <td>26</td>\n",
       "    </tr>\n",
       "    <tr>\n",
       "      <th>558</th>\n",
       "      <td>21</td>\n",
       "    </tr>\n",
       "    <tr>\n",
       "      <th>618</th>\n",
       "      <td>34</td>\n",
       "    </tr>\n",
       "    <tr>\n",
       "      <th>628</th>\n",
       "      <td>3</td>\n",
       "    </tr>\n",
       "    <tr>\n",
       "      <th>7897</th>\n",
       "      <td>51</td>\n",
       "    </tr>\n",
       "    <tr>\n",
       "      <th>7921</th>\n",
       "      <td>40</td>\n",
       "    </tr>\n",
       "    <tr>\n",
       "      <th>11144</th>\n",
       "      <td>106</td>\n",
       "    </tr>\n",
       "    <tr>\n",
       "      <th>11336</th>\n",
       "      <td>53</td>\n",
       "    </tr>\n",
       "  </tbody>\n",
       "</table>\n",
       "</div>"
      ],
      "text/plain": [
       "                     batsman_runs\n",
       "batsman    match_id              \n",
       "JC Buttler 10                  14\n",
       "           588                 11\n",
       "           613                  2\n",
       "           7897                 6\n",
       "           7921                10\n",
       "           11144                6\n",
       "SPD Smith  25                  27\n",
       "           43                  34\n",
       "           402                 17\n",
       "           487                 22\n",
       "           529                 13\n",
       "           558                 68\n",
       "           598                 46\n",
       "           11336               22\n",
       "SV Samson  21                  42\n",
       "           39                  24\n",
       "           449                  5\n",
       "           455                 10\n",
       "           461                  3\n",
       "           487                 16\n",
       "           529                 26\n",
       "           558                 21\n",
       "           618                 34\n",
       "           628                  3\n",
       "           7897                51\n",
       "           7921                40\n",
       "           11144              106\n",
       "           11336               53"
      ]
     },
     "execution_count": 319,
     "metadata": {},
     "output_type": "execute_result"
    }
   ],
   "source": [
    "df5=df4.groupby(['batsman','match_id']).agg({'batsman_runs':'sum'})\n",
    "df5\n"
   ]
  },
  {
   "cell_type": "code",
   "execution_count": 320,
   "metadata": {},
   "outputs": [
    {
     "data": {
      "text/html": [
       "<div>\n",
       "<style scoped>\n",
       "    .dataframe tbody tr th:only-of-type {\n",
       "        vertical-align: middle;\n",
       "    }\n",
       "\n",
       "    .dataframe tbody tr th {\n",
       "        vertical-align: top;\n",
       "    }\n",
       "\n",
       "    .dataframe thead th {\n",
       "        text-align: right;\n",
       "    }\n",
       "</style>\n",
       "<table border=\"1\" class=\"dataframe\">\n",
       "  <thead>\n",
       "    <tr style=\"text-align: right;\">\n",
       "      <th></th>\n",
       "      <th>batsman_runs</th>\n",
       "    </tr>\n",
       "    <tr>\n",
       "      <th>batsman</th>\n",
       "      <th></th>\n",
       "    </tr>\n",
       "  </thead>\n",
       "  <tbody>\n",
       "    <tr>\n",
       "      <th>JC Buttler</th>\n",
       "      <td>49</td>\n",
       "    </tr>\n",
       "    <tr>\n",
       "      <th>SPD Smith</th>\n",
       "      <td>249</td>\n",
       "    </tr>\n",
       "    <tr>\n",
       "      <th>SV Samson</th>\n",
       "      <td>434</td>\n",
       "    </tr>\n",
       "  </tbody>\n",
       "</table>\n",
       "</div>"
      ],
      "text/plain": [
       "            batsman_runs\n",
       "batsman                 \n",
       "JC Buttler            49\n",
       "SPD Smith            249\n",
       "SV Samson            434"
      ]
     },
     "execution_count": 320,
     "metadata": {},
     "output_type": "execute_result"
    }
   ],
   "source": [
    "df5=df4.groupby(['batsman']).agg({'batsman_runs':'sum'})\n",
    "df5\n"
   ]
  },
  {
   "cell_type": "code",
   "execution_count": 321,
   "metadata": {},
   "outputs": [
    {
     "data": {
      "text/plain": [
       "8.166666666666666"
      ]
     },
     "execution_count": 321,
     "metadata": {},
     "output_type": "execute_result"
    }
   ],
   "source": [
    "#from above \n",
    "JC_Buttler_runs=49 # in 6 matches vs SRH\n",
    "SPD_Smith_runs=249 # in 8 matches vs SRH\n",
    "SV_Samson_runs=434 #in 14 matches vs SRH \n",
    "#CALCULATING AVERAGES:\n",
    "runs_per_match_vsSRH_Buttler=JC_Buttler_runs/6\n",
    "runs_per_match_vsSRH_Buttler\n"
   ]
  },
  {
   "cell_type": "code",
   "execution_count": 322,
   "metadata": {},
   "outputs": [
    {
     "data": {
      "text/plain": [
       "31.125"
      ]
     },
     "execution_count": 322,
     "metadata": {},
     "output_type": "execute_result"
    }
   ],
   "source": [
    "runs_per_match_vsSRH_Smith=SPD_Smith_runs/8\n",
    "runs_per_match_vsSRH_Smith\n"
   ]
  },
  {
   "cell_type": "code",
   "execution_count": 323,
   "metadata": {},
   "outputs": [
    {
     "data": {
      "text/plain": [
       "31.0"
      ]
     },
     "execution_count": 323,
     "metadata": {},
     "output_type": "execute_result"
    }
   ],
   "source": [
    "runs_per_match_vsSRH_Samson=SV_Samson_runs/14\n",
    "runs_per_match_vsSRH_Samson\n"
   ]
  },
  {
   "cell_type": "markdown",
   "metadata": {},
   "source": [
    "# QUES 5"
   ]
  },
  {
   "cell_type": "code",
   "execution_count": 324,
   "metadata": {},
   "outputs": [
    {
     "data": {
      "text/html": [
       "<div>\n",
       "<style scoped>\n",
       "    .dataframe tbody tr th:only-of-type {\n",
       "        vertical-align: middle;\n",
       "    }\n",
       "\n",
       "    .dataframe tbody tr th {\n",
       "        vertical-align: top;\n",
       "    }\n",
       "\n",
       "    .dataframe thead th {\n",
       "        text-align: right;\n",
       "    }\n",
       "</style>\n",
       "<table border=\"1\" class=\"dataframe\">\n",
       "  <thead>\n",
       "    <tr style=\"text-align: right;\">\n",
       "      <th></th>\n",
       "      <th>noball_runs</th>\n",
       "    </tr>\n",
       "    <tr>\n",
       "      <th>bowling_team</th>\n",
       "      <th></th>\n",
       "    </tr>\n",
       "  </thead>\n",
       "  <tbody>\n",
       "    <tr>\n",
       "      <th>Rajasthan Royals</th>\n",
       "      <td>2</td>\n",
       "    </tr>\n",
       "    <tr>\n",
       "      <th>Sunrisers Hyderabad</th>\n",
       "      <td>1</td>\n",
       "    </tr>\n",
       "  </tbody>\n",
       "</table>\n",
       "</div>"
      ],
      "text/plain": [
       "                     noball_runs\n",
       "bowling_team                    \n",
       "Rajasthan Royals               2\n",
       "Sunrisers Hyderabad            1"
      ]
     },
     "execution_count": 324,
     "metadata": {},
     "output_type": "execute_result"
    }
   ],
   "source": [
    "df5= df[['match_id','bowling_team','batting_team','noball_runs']]\n",
    "df5= df5[(df5['bowling_team']=='Sunrisers Hyderabad') & (df5['batting_team'] == 'Rajasthan Royals') | (df5['bowling_team']=='Rajasthan Royals') & (df5['batting_team'] == 'Sunrisers Hyderabad')]\n",
    "df6=df5.groupby('bowling_team').agg({'noball_runs':'sum'})\n",
    "df6\n",
    "\n"
   ]
  },
  {
   "cell_type": "code",
   "execution_count": 325,
   "metadata": {},
   "outputs": [
    {
     "data": {
      "text/plain": [
       "3"
      ]
     },
     "execution_count": 325,
     "metadata": {},
     "output_type": "execute_result"
    }
   ],
   "source": [
    "total_noball=df5['noball_runs'].sum()\n",
    "total_noball"
   ]
  },
  {
   "cell_type": "code",
   "execution_count": 326,
   "metadata": {},
   "outputs": [
    {
     "data": {
      "text/plain": [
       "0.2727272727272727"
      ]
     },
     "execution_count": 326,
     "metadata": {},
     "output_type": "execute_result"
    }
   ],
   "source": [
    "noball_per_match=total_noball/total_matches\n",
    "noball_per_match"
   ]
  },
  {
   "cell_type": "code",
   "execution_count": null,
   "metadata": {},
   "outputs": [],
   "source": []
  }
 ],
 "metadata": {
  "kernelspec": {
   "display_name": "Python 3",
   "language": "python",
   "name": "python3"
  },
  "language_info": {
   "codemirror_mode": {
    "name": "ipython",
    "version": 3
   },
   "file_extension": ".py",
   "mimetype": "text/x-python",
   "name": "python",
   "nbconvert_exporter": "python",
   "pygments_lexer": "ipython3",
   "version": "3.7.6"
  }
 },
 "nbformat": 4,
 "nbformat_minor": 4
}
