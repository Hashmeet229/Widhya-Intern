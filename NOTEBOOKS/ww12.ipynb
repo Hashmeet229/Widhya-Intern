{
 "cells": [
  {
   "cell_type": "code",
   "execution_count": null,
   "metadata": {
    "_cell_guid": "b1076dfc-b9ad-4769-8c92-a6c4dae69d19",
    "_uuid": "8f2839f25d086af736a60e9eeb907d3b93b6e0e5"
   },
   "outputs": [],
   "source": [
    "# This Python 3 environment comes with many helpful analytics libraries installed\n",
    "# It is defined by the kaggle/python Docker image: https://github.com/kaggle/docker-python\n",
    "# For example, here's several helpful packages to load\n",
    "\n",
    "import numpy as np # linear algebra\n",
    "import pandas as pd # data processing, CSV file I/O (e.g. pd.read_csv)\n",
    "\n",
    "# Input data files are available in the read-only \"../input/\" directory\n",
    "# For example, running this (by clicking run or pressing Shift+Enter) will list all files under the input directory\n",
    "\n",
    "import os\n",
    "for dirname, _, filenames in os.walk('/kaggle/input'):\n",
    "    for filename in filenames:\n",
    "        print(os.path.join(dirname, filename))\n",
    "\n",
    "# You can write up to 5GB to the current directory (/kaggle/working/) that gets preserved as output when you create a version using \"Save & Run All\" \n",
    "# You can also write temporary files to /kaggle/temp/, but they won't be saved outside of the current session"
   ]
  },
  {
   "cell_type": "code",
   "execution_count": null,
   "metadata": {
    "_cell_guid": "79c7e3d0-c299-4dcb-8224-4455121ee9b0",
    "_uuid": "d629ff2d2480ee46fbb7e2d37f6b5fab8052498a"
   },
   "outputs": [],
   "source": [
    "import pandas as pd\n",
    "import numpy as np\n",
    "import matplotlib.pyplot as plt\n",
    "import seaborn as sns\n",
    "df=pd.read_csv(\"../input/rr-vs-srh-match/deliveries.csv\")\n",
    "df.head()\n",
    "df.info()\n",
    "import os\n",
    "print(os.listdir(\"../input\"))"
   ]
  },
  {
   "cell_type": "code",
   "execution_count": null,
   "metadata": {},
   "outputs": [],
   "source": [
    "df1=pd.read_csv(\"../input/rr-vs-srh-match/matches.csv\")\n",
    "df1.info()"
   ]
  },
  {
   "cell_type": "markdown",
   "metadata": {},
   "source": [
    "# QUES 1"
   ]
  },
  {
   "cell_type": "code",
   "execution_count": null,
   "metadata": {},
   "outputs": [],
   "source": [
    "df2=df1[['id','team1','team2','winner','result','toss_winner','toss_decision','season',]]\n",
    "df2.head()\n"
   ]
  },
  {
   "cell_type": "code",
   "execution_count": null,
   "metadata": {},
   "outputs": [],
   "source": [
    "df3 = df2[(df2['team1']=='Sunrisers Hyderabad') & (df2['team2'] == 'Rajasthan Royals') | (df2['team1']=='Rajasthan Royals') & (df2['team2'] == 'Sunrisers Hyderabad')]\n",
    "df3\n",
    "\n"
   ]
  },
  {
   "cell_type": "code",
   "execution_count": null,
   "metadata": {},
   "outputs": [],
   "source": [
    "df3['winner'].value_counts()\n"
   ]
  },
  {
   "cell_type": "code",
   "execution_count": null,
   "metadata": {},
   "outputs": [],
   "source": [
    "total_matches=df3['id'].nunique()\n",
    "total_matches"
   ]
  },
  {
   "cell_type": "code",
   "execution_count": null,
   "metadata": {},
   "outputs": [],
   "source": [
    "sns.countplot(df3['winner'])\n",
    "\n",
    "plt.text(1,6,str(6))\n",
    "plt.text(0,5,str(5))"
   ]
  },
  {
   "cell_type": "code",
   "execution_count": null,
   "metadata": {},
   "outputs": [],
   "source": [
    "df3['toss_decision'].value_counts()"
   ]
  },
  {
   "cell_type": "code",
   "execution_count": null,
   "metadata": {},
   "outputs": [],
   "source": [
    "matches_played=pd.concat([df1['team1'],df1['team2']])\n",
    "matches_played=matches_played.value_counts().reset_index()\n",
    "matches_played.columns=['Team','Total Matches']\n",
    "matches_played['wins']=df1['winner'].value_counts().reset_index()['winner']\n",
    "\n",
    "matches_played.set_index('Team',inplace=True)\n",
    "matches_played.reset_index().head(8)\n"
   ]
  },
  {
   "cell_type": "code",
   "execution_count": null,
   "metadata": {},
   "outputs": [],
   "source": [
    "win_percentage = round(matches_played['wins']/matches_played['Total Matches'],3)*100\n",
    "win_percentage.head(8)"
   ]
  },
  {
   "cell_type": "code",
   "execution_count": null,
   "metadata": {},
   "outputs": [],
   "source": [
    "total=df1.groupby('team1')['id'].count() + df1.groupby('team2')['id'].count()\n",
    "total"
   ]
  },
  {
   "cell_type": "code",
   "execution_count": null,
   "metadata": {},
   "outputs": [],
   "source": [
    "plt.figure(figsize=(10,10))\n",
    "plt.bar(win_percentage.index,((df1['winner'].value_counts()/ total)*100).sort_values())\n",
    "plt.xticks(rotation=90)\n",
    "plt.title('WIN PERCENTAGE BY TEAMS')"
   ]
  },
  {
   "cell_type": "code",
   "execution_count": null,
   "metadata": {},
   "outputs": [],
   "source": [
    "last_3=df3[df3['season']>2016]\n",
    "sns.countplot(last_3['winner'],data=last_3)\n",
    "plt.text(1,1,str(2),fontsize=15)\n",
    "plt.text(0,3,str(4),fontsize=15)"
   ]
  },
  {
   "cell_type": "markdown",
   "metadata": {},
   "source": [
    "# QUES 2"
   ]
  },
  {
   "cell_type": "code",
   "execution_count": null,
   "metadata": {},
   "outputs": [],
   "source": [
    "a= df[['match_id','bowler','ball','over','batting_team','player_dismissed']]\n",
    "a=a[(a['bowler'] == 'Rashid Khan') & (a['batting_team'] == 'Rajasthan Royals')]\n",
    "a=a.fillna(0)\n",
    "a"
   ]
  },
  {
   "cell_type": "code",
   "execution_count": null,
   "metadata": {},
   "outputs": [],
   "source": [
    "a['player_dismissed'] = a['player_dismissed'].apply(lambda x: 'NO WICKET'  if x== 0 else \"WICKET\")\n",
    "a"
   ]
  },
  {
   "cell_type": "code",
   "execution_count": null,
   "metadata": {},
   "outputs": [],
   "source": [
    "a['player_dismissed'].value_counts()"
   ]
  },
  {
   "cell_type": "code",
   "execution_count": null,
   "metadata": {},
   "outputs": [],
   "source": [
    "#from above\n",
    "total_wicket_vsRR_for_Rashid=4"
   ]
  },
  {
   "cell_type": "code",
   "execution_count": null,
   "metadata": {},
   "outputs": [],
   "source": [
    "a['ball'].value_counts().sum()"
   ]
  },
  {
   "cell_type": "code",
   "execution_count": null,
   "metadata": {},
   "outputs": [],
   "source": [
    "total_balls_bowled_by_Rashid_vsRR=96\n"
   ]
  },
  {
   "cell_type": "code",
   "execution_count": null,
   "metadata": {},
   "outputs": [],
   "source": [
    "balls_required_for_first_wicket=total_balls_bowled_by_Rashid_vsRR/total_wicket_vsRR_for_Rashid\n",
    "balls_required_for_first_wicket"
   ]
  },
  {
   "cell_type": "markdown",
   "metadata": {},
   "source": [
    "# QUES 3"
   ]
  },
  {
   "cell_type": "code",
   "execution_count": null,
   "metadata": {},
   "outputs": [],
   "source": [
    "df4= df[['match_id','batsman','bowling_team','bowler','player_dismissed','dismissal_kind']]\n",
    "df4=df4[(df4['batsman'] == 'DA Warner') & (df4['bowling_team'] == 'Rajasthan Royals')]\n",
    "df4=df4.fillna(0)\n",
    "df4"
   ]
  },
  {
   "cell_type": "code",
   "execution_count": null,
   "metadata": {},
   "outputs": [],
   "source": [
    "df4['player_dismissed'] = df4['player_dismissed'].apply(lambda x: 'NO WICKET'  if x== 0 else 'WICKET')\n",
    "df4"
   ]
  },
  {
   "cell_type": "code",
   "execution_count": null,
   "metadata": {},
   "outputs": [],
   "source": [
    "df4['player_dismissed'].value_counts()"
   ]
  },
  {
   "cell_type": "code",
   "execution_count": null,
   "metadata": {},
   "outputs": [],
   "source": [
    "df4['dismissal_kind'].value_counts()"
   ]
  },
  {
   "cell_type": "code",
   "execution_count": null,
   "metadata": {},
   "outputs": [],
   "source": [
    "df4['dismissal_kind'].value_counts(normalize=True)"
   ]
  },
  {
   "cell_type": "code",
   "execution_count": null,
   "metadata": {},
   "outputs": [],
   "source": [
    "#From above getting dismissed by caught is more as compared to stumped,run out,bowled"
   ]
  },
  {
   "cell_type": "markdown",
   "metadata": {},
   "source": [
    "# QUES 4"
   ]
  },
  {
   "cell_type": "code",
   "execution_count": null,
   "metadata": {},
   "outputs": [],
   "source": [
    "df4= df[['match_id','batsman','bowling_team','bowler','batsman_runs']]\n",
    "df4=df4[(df4['bowling_team']=='Sunrisers Hyderabad')]\n",
    "df4=df4[(df4['batsman'] == 'SV Samson') | (df4['batsman'] == 'SPD Smith')| (df4['batsman'] == 'JC Buttler') ]\n",
    "df4=df4.fillna(0)\n",
    "df4"
   ]
  },
  {
   "cell_type": "code",
   "execution_count": null,
   "metadata": {},
   "outputs": [],
   "source": [
    "df5=df4.groupby(['batsman','match_id']).agg({'batsman_runs':'sum'})\n",
    "df5\n"
   ]
  },
  {
   "cell_type": "code",
   "execution_count": null,
   "metadata": {},
   "outputs": [],
   "source": [
    "df5=df4.groupby(['batsman']).agg({'batsman_runs':'sum'})\n",
    "df5\n"
   ]
  },
  {
   "cell_type": "code",
   "execution_count": null,
   "metadata": {},
   "outputs": [],
   "source": [
    "#from above \n",
    "JC_Buttler_runs=49 # in 6 matches vs SRH\n",
    "SPD_Smith_runs=249 # in 8 matches vs SRH\n",
    "SV_Samson_runs=434 #in 14 matches vs SRH \n",
    "#CALCULATING AVERAGES:\n",
    "runs_per_match_vsSRH_Buttler=JC_Buttler_runs/6\n",
    "runs_per_match_vsSRH_Buttler\n"
   ]
  },
  {
   "cell_type": "code",
   "execution_count": null,
   "metadata": {},
   "outputs": [],
   "source": [
    "runs_per_match_vsSRH_Smith=SPD_Smith_runs/8\n",
    "runs_per_match_vsSRH_Smith\n"
   ]
  },
  {
   "cell_type": "code",
   "execution_count": null,
   "metadata": {},
   "outputs": [],
   "source": [
    "runs_per_match_vsSRH_Samson=SV_Samson_runs/14\n",
    "runs_per_match_vsSRH_Samson\n"
   ]
  },
  {
   "cell_type": "markdown",
   "metadata": {},
   "source": [
    "# QUES 5"
   ]
  },
  {
   "cell_type": "code",
   "execution_count": null,
   "metadata": {},
   "outputs": [],
   "source": [
    "df5= df[['match_id','bowling_team','batting_team','noball_runs']]\n",
    "df5= df5[(df5['bowling_team']=='Sunrisers Hyderabad') & (df5['batting_team'] == 'Rajasthan Royals') | (df5['bowling_team']=='Rajasthan Royals') & (df5['batting_team'] == 'Sunrisers Hyderabad')]\n",
    "df6=df5.groupby('bowling_team').agg({'noball_runs':'sum'})\n",
    "df6\n",
    "\n"
   ]
  },
  {
   "cell_type": "code",
   "execution_count": null,
   "metadata": {},
   "outputs": [],
   "source": [
    "total_noball=df5['noball_runs'].sum()\n",
    "total_noball"
   ]
  },
  {
   "cell_type": "code",
   "execution_count": null,
   "metadata": {},
   "outputs": [],
   "source": [
    "noball_per_match=total_noball/total_matches\n",
    "noball_per_match"
   ]
  }
 ],
 "metadata": {
  "kernelspec": {
   "display_name": "Python 3",
   "language": "python",
   "name": "python3"
  },
  "language_info": {
   "codemirror_mode": {
    "name": "ipython",
    "version": 3
   },
   "file_extension": ".py",
   "mimetype": "text/x-python",
   "name": "python",
   "nbconvert_exporter": "python",
   "pygments_lexer": "ipython3",
   "version": "3.8.3"
  }
 },
 "nbformat": 4,
 "nbformat_minor": 4
}
